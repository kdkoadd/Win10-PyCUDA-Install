{
 "cells": [
  {
   "cell_type": "markdown",
   "metadata": {
    "collapsed": true
   },
   "source": [
    "# Configuring PyCUDA with Sample Runs\n",
    "This notebook describes how I configured a windows-based machine with Python and PyCUDA to invoke CUDA code from within python and provides some sample code. Note that I used Anaconda for installing all Python scientific packages. You can install the requisite packages as you see fit (individually using conda for example).\n",
    "## My System\n",
    "OS: Windows 10 Home    \n",
    "Processor: AMD FX-8150 8 Core 3.6 GHz  \n",
    "RAM: 8GB    \n",
    "Video: NVIDIA GeForce GTX 970 4GB \n",
    "## Steps for Installing [PyCUDA](http://mathema.tician.de/software/pycuda/)\n",
    "1. Install [Visual Studio Community 2013](https://www.visualstudio.com/en-us/downloads/download-visual-studio-vs.aspx) \n",
    "2. Install [CUDA Toolkit 7.5](https://developer.nvidia.com/cuda-downloads)\n",
    "3. Install [Anaconda](https://www.continuum.io/downloads) for Windows 64-bit, Python 2.7  \n",
    "4. Open a DOS command prompt\n",
    "    1. enter **conda update conda**\n",
    "    2. enter **conda update anaconda**\n",
    "5. Download the [PyCUDA install file](http://www.lfd.uci.edu/~gohlke/pythonlibs/#pycuda)\n",
    "6. Open a DOS command prompt\n",
    "    1. enter **pip install pycuda‑2015.1.3+cuda7518‑cp27‑none‑win_amd64.whl**\n",
    "7. Install [Python Tools for VS 2013](https://github.com/Microsoft/PTVS/releases/v2.2)\n",
    "8. Open a DOS command prompt\n",
    "    1. enter **conda install boost**\n",
    "9. Add the following to your PATH environment variable: (e.g., Settings->System->About->System Info->Advanced Systems Settings->Environment Variables->PATH->Edit...)\n",
    "\n",
    ">C:\\Program Files (x86)\\Microsoft Visual Studio 12.0\\VC\\bin\\;C:\\Program Files (x86)\\Microsoft Visual Studio 12.0\\VC\\bin\\amd64;C:\\Program Files (x86)\\Microsoft Visual Studio 12.0\\Common7\\IDE"
   ]
  },
  {
   "cell_type": "code",
   "execution_count": 1,
   "metadata": {
    "collapsed": false
   },
   "outputs": [
    {
     "name": "stdout",
     "output_type": "stream",
     "text": [
      "SourceModule time and first three results:\n",
      "0.601702s, [-0.44203371  0.01866707 -0.12238965]\n",
      "First few of a:\n",
      "[-1.34425676 -0.02860783  0.90981776 -0.72514886 -1.88500714]\n",
      "Last few of a:\n",
      "[-0.37056407 -0.95410705 -0.13737066  0.42489156  0.34473094]\n",
      "First few of b:\n",
      "[ 0.32883132 -0.65251607 -0.13452107 -0.6292792  -0.99594241]\n",
      "First few of local a*b calculations:\n",
      "[-0.44203371  0.01866707 -0.12238965  0.45632109  1.87735856]\n",
      "First few of GPU calculations:\n",
      "[-0.44203371  0.01866707 -0.12238965  0.45632109  1.87735856]\n",
      "GPU result minus local multiplication a*b:\n",
      "102400000\n",
      "[ 0.  0.  0. ...,  0.  0.  0.]\n",
      "x:\n",
      "[[ 0.0892044  -1.12173331 -0.46935287  1.99770534]\n",
      " [-0.4235895   0.67257589 -0.43842956  0.4212932 ]\n",
      " [ 0.50492972  0.61366057  0.37574279 -1.33577192]\n",
      " [ 0.92241836 -0.60946316  0.82436442  0.48008668]]\n",
      "x doubled:\n",
      "[[ 0.1784088  -2.24346662 -0.93870574  3.99541068]\n",
      " [-0.847179    1.34515178 -0.87685913  0.8425864 ]\n",
      " [ 1.00985944  1.22732115  0.75148559 -2.67154384]\n",
      " [ 1.84483671 -1.21892631  1.64872885  0.96017337]]\n"
     ]
    }
   ],
   "source": [
    "import pycuda.autoinit\n",
    "import pycuda.driver as cuda\n",
    "import numpy as np\n",
    "\n",
    "from pycuda.compiler import SourceModule\n",
    "mod = SourceModule(\"\"\"\n",
    "__global__ void multiply_them(float *dest, float *a, float *b)\n",
    "{\n",
    "  const int i = threadIdx.x + blockIdx.x * 1024;\n",
    "  dest[i] = a[i] * b[i];\n",
    "}\n",
    "\"\"\")\n",
    "\n",
    "source_doublify  =  \"\"\"\n",
    "__global__ void doublify(float* a)\n",
    "{\n",
    "int idx = threadIdx.x + threadIdx.y*4;\n",
    "a[idx] *= 2;\n",
    "}\n",
    "\"\"\"\n",
    "start = cuda.Event()\n",
    "end = cuda.Event()\n",
    "\n",
    "multiply_them = mod.get_function(\"multiply_them\")\n",
    "\n",
    "a = np.random.randn(102400000).astype(np.float32)\n",
    "b = np.random.randn(102400000).astype(np.float32)\n",
    "\n",
    "dest = np.zeros_like(a)\n",
    "\n",
    "start.record() # start timing\n",
    "multiply_them(cuda.Out(dest), cuda.In(a), cuda.In(b),block=(1024,1,1), grid=(100000,1))\n",
    "end.record() # end timing\n",
    "# calculate the run length\n",
    "end.synchronize()\n",
    "secs = start.time_till(end)*1e-3\n",
    "print \"SourceModule time and first three results:\"\n",
    "print \"%fs, %s\" % (secs, str(dest[:3]))\n",
    "                   \n",
    "print \"First few of a:\"\n",
    "print a[:5]\n",
    "print \"Last few of a:\"\n",
    "print a[len(a)-5:]\n",
    "print \"First few of b:\"\n",
    "print b[:5]\n",
    "print \"First few of local a*b calculations:\"\n",
    "print a[:5] * b[:5]\n",
    "print \"First few of GPU calculations:\"\n",
    "print dest[:5]\n",
    "\n",
    "print \"GPU result minus local multiplication a*b:\"\n",
    "result = dest-a*b\n",
    "print len(result)\n",
    "print result\n",
    "\n",
    "mod =  SourceModule(source_doublify)\n",
    "func  = mod.get_function(\"doublify\")\n",
    "#create vector\n",
    "x  = np.random.randn(4 ,4)\n",
    "x  =  x.astype(np.float32)\n",
    "#copy it on card\n",
    "x_gpu  = cuda.mem_alloc(x.nbytes)\n",
    "cuda.memcpy_htod(x_gpu,x)\n",
    "#call function\n",
    "func(x_gpu, block=(4 ,4 ,1))\n",
    "#get data back\n",
    "x_doubled  = np.empty_like(x)\n",
    "cuda.memcpy_dtoh(x_doubled,x_gpu)\n",
    "print \"x:\"\n",
    "print x\n",
    "print \"x doubled:\"\n",
    "print x_doubled"
   ]
  },
  {
   "cell_type": "code",
   "execution_count": null,
   "metadata": {
    "collapsed": true
   },
   "outputs": [],
   "source": []
  },
  {
   "cell_type": "code",
   "execution_count": null,
   "metadata": {
    "collapsed": true
   },
   "outputs": [],
   "source": []
  }
 ],
 "metadata": {
  "kernelspec": {
   "display_name": "Python 2",
   "language": "python",
   "name": "python2"
  },
  "language_info": {
   "codemirror_mode": {
    "name": "ipython",
    "version": 2
   },
   "file_extension": ".py",
   "mimetype": "text/x-python",
   "name": "python",
   "nbconvert_exporter": "python",
   "pygments_lexer": "ipython2",
   "version": "2.7.10"
  }
 },
 "nbformat": 4,
 "nbformat_minor": 0
}
